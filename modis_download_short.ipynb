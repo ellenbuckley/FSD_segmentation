{
 "cells": [
  {
   "cell_type": "code",
   "execution_count": null,
   "id": "7a7a9ce0-f0cf-42d2-8f4e-ccff407c2d83",
   "metadata": {},
   "outputs": [],
   "source": []
  },
  {
   "cell_type": "markdown",
   "id": "ac34740b-0d2d-42d3-ab80-893d69a6b52b",
   "metadata": {},
   "source": [
    "### import libraries"
   ]
  },
  {
   "cell_type": "code",
   "execution_count": 1,
   "id": "f9e96b96-1351-4e6f-9f09-9585e1c9f37b",
   "metadata": {
    "tags": []
   },
   "outputs": [],
   "source": [
    "import requests\n",
    "import json\n",
    "import configparser\n",
    "\n",
    "import numpy as np\n",
    "import csv\n",
    "import math\n",
    "import pandas as pd\n",
    "import os, sys\n",
    "\n",
    "\n",
    "from datetime import datetime\n",
    "import rasterio\n",
    "import warnings\n",
    "warnings.filterwarnings('ignore')\n",
    "import requests\n",
    "import netCDF4 as nc"
   ]
  },
  {
   "cell_type": "markdown",
   "id": "f47fc9ab-7028-4277-b86e-f3684d3b28b4",
   "metadata": {
    "tags": []
   },
   "source": [
    "## download all data for cloud frac"
   ]
  },
  {
   "cell_type": "code",
   "execution_count": null,
   "id": "ad58c5b3-705d-48e2-ae7c-535197faf9c1",
   "metadata": {},
   "outputs": [],
   "source": []
  },
  {
   "cell_type": "code",
   "execution_count": 3,
   "id": "fe1304f5-8fd6-4658-a52a-91d5c3fc797b",
   "metadata": {
    "tags": []
   },
   "outputs": [],
   "source": [
    "# setting up dates and years to download\n",
    "yrs=np.arange(2000,2023,1) #doy 60 to 274\n",
    "dys=np.arange(60,274,1) # march 1 to september 30"
   ]
  },
  {
   "cell_type": "code",
   "execution_count": 4,
   "id": "a9a96f95-90c7-4d54-935d-408f362fb009",
   "metadata": {
    "tags": []
   },
   "outputs": [],
   "source": []
  },
  {
   "cell_type": "code",
   "execution_count": 7,
   "id": "1943faa1-5a73-4017-942d-577b3d86c287",
   "metadata": {
    "tags": []
   },
   "outputs": [],
   "source": [
    "for y in yrs:\n",
    "    for doy in dys:#np.arange(df_dates[df_dates.Year==y].jdoy_start.values[0],df_dates[df_dates.Year==y].jdoy_end.values[0]):\n",
    "        res = datetime.strptime(str(y) + \"-\" + str(doy), \"%Y-%j\").strftime(\"%Y-%m-%d\")\n",
    "        #download cloud data\n",
    "        #url = 'https://wvs.earthdata.nasa.gov/api/v1/snapshot?REQUEST=GetSnapshot&TIME='+res+'T00:00:00Z&BBOX=-2334051.0214676396,-414387.78951688844,-1127689.8419350237,757861.8364224486&CRS=EPSG:3413&LAYERS=MODIS_Terra_CorrectedReflectance_TrueColor,MODIS_Terra_Cloud_Fraction_Day&WRAP=day,day&FORMAT=image/tiff&WIDTH=2414&HEIGHT=4184&ts=1678819190554'\n",
    "        \n",
    "        #download TC data:\n",
    "        url = 'https://wvs.earthdata.nasa.gov/api/v1/snapshot?REQUEST=GetSnapshot&TIME='+res+'T00:00:00Z&BBOX=-2334051.0214676396,-414387.78951688844,-1127689.8419350237,757861.8364224486&CRS=EPSG:3413&LAYERS=MODIS_Terra_CorrectedReflectance_TrueColor&WRAP=day&FORMAT=image/tiff&WIDTH=4712&HEIGHT=4579&ts=1683675557694'\n",
    "        \n",
    "        r = requests.get(url, allow_redirects=True)\n",
    "        f_direc='/Volumes/Extreme SSD/just_beaufort/tci/'\n",
    "        fname='tci_'+res+'_'+str(doy)+'_terra.tiff'\n",
    "        open(f_direc+fname, 'wb').write(r.content)"
   ]
  },
  {
   "cell_type": "markdown",
   "id": "a9d44f31-391e-4d51-9267-94855d1a2515",
   "metadata": {},
   "source": [
    "## a few more examples here:"
   ]
  },
  {
   "cell_type": "code",
   "execution_count": 4,
   "id": "316246dc-8d3c-4f36-a7cb-e18abcb0c456",
   "metadata": {},
   "outputs": [],
   "source": [
    "y=2021\n",
    "dys=np.arange(195,274,1)\n",
    "for doy in dys:\n",
    "    res = datetime.strptime(str(y) + \"-\" + str(doy), \"%Y-%j\").strftime(\"%Y-%m-%d\")\n",
    "    url = 'https://wvs.earthdata.nasa.gov/api/v1/snapshot?REQUEST=GetSnapshot&TIME='+res+'T00:00:00Z&BBOX=-2334051.0214676396,-414387.78951688844,-1127689.8419350237,757861.8364224486&CRS=EPSG:3413&LAYERS=MODIS_Terra_CorrectedReflectance_TrueColor&WRAP=day&FORMAT=image/tiff&WIDTH=4712&HEIGHT=4579&ts=1683675557694'\n",
    "    r = requests.get(url, allow_redirects=True)\n",
    "    f_direc='/Volumes/Extreme SSD/just_beaufort/tci/'\n",
    "    fname='tci_'+res+'_'+str(doy)+'_terra.tiff'\n",
    "    open(f_direc+fname, 'wb').write(r.content)"
   ]
  },
  {
   "cell_type": "code",
   "execution_count": 33,
   "id": "2f8ee359-9457-48c3-98ee-bab32e918ee0",
   "metadata": {},
   "outputs": [
    {
     "data": {
      "text/plain": [
       "1212879"
      ]
     },
     "execution_count": 33,
     "metadata": {},
     "output_type": "execute_result"
    }
   ],
   "source": [
    "## cloud download\n",
    "res='2016-07-01'\n",
    "url = 'https://wvs.earthdata.nasa.gov/api/v1/snapshot?REQUEST=GetSnapshot&TIME='+res+'T00:00:00Z&BBOX=-2334051.0214676396,-414387.78951688844,-1127689.8419350237,757861.8364224486&CRS=EPSG:3413&LAYERS=MODIS_Terra_CorrectedReflectance_TrueColor,MODIS_Terra_Cloud_Fraction_Day&WRAP=day,day&FORMAT=image/tiff&&WIDTH=4712&HEIGHT=4579&ts=1683675557694'\n",
    "\n",
    "#url = 'https://wvs.earthdata.nasa.gov/api/v1/snapshot?REQUEST=GetSnapshot&TIME='+res+'T00:00:00Z&BBOX=-2334051.0214676396,-414387.78951688844,-1127689.8419350237,757861.8364224486&CRS=EPSG:3413&LAYERS=MODIS_Terra_CorrectedReflectance_TrueColor,MODIS_Terra_Cloud_Fraction_Day&WRAP=day,&WRAP=day&FORMAT=image/tiff&WIDTH=4712&HEIGHT=4579&ts=1683675557694'\n",
    "r = requests.get(url, allow_redirects=True)\n",
    "f_direc='/Volumes/Extreme SSD/just_beaufort/cloud/'\n",
    "fname='cloud_'+res+'_'+str(doy)+'_terra.tiff'\n",
    "open(f_direc+fname, 'wb').write(r.content)"
   ]
  },
  {
   "cell_type": "code",
   "execution_count": 3,
   "id": "b601ae2a-24f0-470c-a765-9263a9aef3b7",
   "metadata": {
    "tags": []
   },
   "outputs": [
    {
     "data": {
      "text/plain": [
       "1182366"
      ]
     },
     "execution_count": 3,
     "metadata": {},
     "output_type": "execute_result"
    }
   ],
   "source": [
    "## individual dowlonad\n",
    "y=2008\n",
    "for doy in dys:\n",
    "res = datetime.strptime(str(y) + \"-\" + str(doy), \"%Y-%j\").strftime(\"%Y-%m-%d\")\n",
    "url = 'https://wvs.earthdata.nasa.gov/api/v1/snapshot?REQUEST=GetSnapshot&TIME='+res+   'T00:00:00Z&BBOX=-2318553.242666358,-429601.24667296547,-1082513.7439950716,1712857.1674874905&CRS=EPSG:3413&LAYERS=MODIS_Aqua_Cloud_Fraction_Day,Coastlines&WRAP=day,x&FORMAT=image/tiff&WIDTH=2414&HEIGHT=4184&ts=1678819190554'\n",
    "r = requests.get(url, allow_redirects=True)\n",
    "f_direc='/Users/ebuckle2/Documents/Data/MODIS/cloud_frac/aqua/'\n",
    "fname='cloud_frac_'+res+'_'+str(doy)+'_aqua.tiff'\n",
    "open(f_direc+fname, 'wb').write(r.content)"
   ]
  }
 ],
 "metadata": {
  "kernelspec": {
   "display_name": "Python 3 (ipykernel)",
   "language": "python",
   "name": "python3"
  },
  "language_info": {
   "codemirror_mode": {
    "name": "ipython",
    "version": 3
   },
   "file_extension": ".py",
   "mimetype": "text/x-python",
   "name": "python",
   "nbconvert_exporter": "python",
   "pygments_lexer": "ipython3",
   "version": "3.11.3"
  }
 },
 "nbformat": 4,
 "nbformat_minor": 5
}
